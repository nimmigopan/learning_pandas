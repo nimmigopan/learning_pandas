{
 "cells": [
  {
   "cell_type": "code",
   "execution_count": 1,
   "id": "045c2540",
   "metadata": {},
   "outputs": [],
   "source": [
    "import numpy as np\n",
    "import pandas as pd"
   ]
  },
  {
   "cell_type": "markdown",
   "id": "cdf2cba8",
   "metadata": {},
   "source": [
    "# Timestamp"
   ]
  },
  {
   "cell_type": "code",
   "execution_count": 2,
   "id": "bd196be6",
   "metadata": {},
   "outputs": [
    {
     "data": {
      "text/plain": [
       "Timestamp('2023-08-04 09:32:00')"
      ]
     },
     "execution_count": 2,
     "metadata": {},
     "output_type": "execute_result"
    }
   ],
   "source": [
    "pd.Timestamp('4th August 2023 9:32')"
   ]
  },
  {
   "cell_type": "code",
   "execution_count": 4,
   "id": "040d6478",
   "metadata": {},
   "outputs": [
    {
     "data": {
      "text/plain": [
       "datetime.date(2023, 8, 4)"
      ]
     },
     "execution_count": 4,
     "metadata": {},
     "output_type": "execute_result"
    }
   ],
   "source": [
    "pd.Timestamp('4th August 2023 9:32').date()"
   ]
  },
  {
   "cell_type": "code",
   "execution_count": 6,
   "id": "eb0ce862",
   "metadata": {},
   "outputs": [
    {
     "data": {
      "text/plain": [
       "2023"
      ]
     },
     "execution_count": 6,
     "metadata": {},
     "output_type": "execute_result"
    }
   ],
   "source": [
    "pd.Timestamp('4th August 2023 9:32').year"
   ]
  },
  {
   "cell_type": "code",
   "execution_count": 7,
   "id": "da9ee7d2",
   "metadata": {},
   "outputs": [
    {
     "data": {
      "text/plain": [
       "8"
      ]
     },
     "execution_count": 7,
     "metadata": {},
     "output_type": "execute_result"
    }
   ],
   "source": [
    "pd.Timestamp('4th August 2023 9:32').month"
   ]
  },
  {
   "cell_type": "code",
   "execution_count": 8,
   "id": "b7a71449",
   "metadata": {},
   "outputs": [
    {
     "data": {
      "text/plain": [
       "4"
      ]
     },
     "execution_count": 8,
     "metadata": {},
     "output_type": "execute_result"
    }
   ],
   "source": [
    "pd.Timestamp('4th August 2023 9:32').day"
   ]
  },
  {
   "cell_type": "code",
   "execution_count": 9,
   "id": "648e047c",
   "metadata": {},
   "outputs": [
    {
     "data": {
      "text/plain": [
       "9"
      ]
     },
     "execution_count": 9,
     "metadata": {},
     "output_type": "execute_result"
    }
   ],
   "source": [
    "pd.Timestamp('4th August 2023 9:32').hour"
   ]
  },
  {
   "cell_type": "code",
   "execution_count": 10,
   "id": "d5038403",
   "metadata": {},
   "outputs": [
    {
     "data": {
      "text/plain": [
       "32"
      ]
     },
     "execution_count": 10,
     "metadata": {},
     "output_type": "execute_result"
    }
   ],
   "source": [
    "pd.Timestamp('4th August 2023 9:32').minute"
   ]
  },
  {
   "cell_type": "code",
   "execution_count": 11,
   "id": "019de37e",
   "metadata": {},
   "outputs": [
    {
     "data": {
      "text/plain": [
       "3"
      ]
     },
     "execution_count": 11,
     "metadata": {},
     "output_type": "execute_result"
    }
   ],
   "source": [
    "pd.Timestamp('4th August 2023 9:32').quarter"
   ]
  },
  {
   "cell_type": "markdown",
   "id": "9f63832d",
   "metadata": {},
   "source": [
    "# Datetime Index"
   ]
  },
  {
   "cell_type": "code",
   "execution_count": 13,
   "id": "44140e04",
   "metadata": {},
   "outputs": [
    {
     "data": {
      "text/plain": [
       "DatetimeIndex(['2023-08-04 09:32:00', '2023-08-05 09:32:00',\n",
       "               '2023-08-06 09:32:00'],\n",
       "              dtype='datetime64[ns]', freq=None)"
      ]
     },
     "execution_count": 13,
     "metadata": {},
     "output_type": "execute_result"
    }
   ],
   "source": [
    "pd.DatetimeIndex([pd.Timestamp('4th August 2023 9:32'),pd.Timestamp('5th August 2023 9:32'),pd.Timestamp('6th August 2023 9:32')])"
   ]
  },
  {
   "cell_type": "code",
   "execution_count": 14,
   "id": "8b8d90d8",
   "metadata": {},
   "outputs": [
    {
     "data": {
      "text/plain": [
       "Timestamp('2023-08-04 09:32:00')"
      ]
     },
     "execution_count": 14,
     "metadata": {},
     "output_type": "execute_result"
    }
   ],
   "source": [
    "pd.DatetimeIndex([pd.Timestamp('4th August 2023 9:32'),pd.Timestamp('5th August 2023 9:32'),pd.Timestamp('6th August 2023 9:32')])[0]"
   ]
  },
  {
   "cell_type": "code",
   "execution_count": 17,
   "id": "7229bee4",
   "metadata": {},
   "outputs": [
    {
     "data": {
      "text/plain": [
       "array([datetime.date(2023, 8, 4), datetime.date(2023, 8, 5)], dtype=object)"
      ]
     },
     "execution_count": 17,
     "metadata": {},
     "output_type": "execute_result"
    }
   ],
   "source": [
    "pd.DatetimeIndex([pd.Timestamp('4th August 2023 9:32'),pd.Timestamp('5th August 2023 9:32')]).date"
   ]
  },
  {
   "cell_type": "code",
   "execution_count": 19,
   "id": "be1f3ef4",
   "metadata": {},
   "outputs": [
    {
     "data": {
      "text/plain": [
       "Int64Index([4, 5], dtype='int64')"
      ]
     },
     "execution_count": 19,
     "metadata": {},
     "output_type": "execute_result"
    }
   ],
   "source": [
    "pd.DatetimeIndex([pd.Timestamp('4th August 2023 9:32'),pd.Timestamp('5th August 2023 9:32')]).day"
   ]
  },
  {
   "cell_type": "code",
   "execution_count": null,
   "id": "6261bc0c",
   "metadata": {},
   "outputs": [],
   "source": [
    "# this DatetimeIndex can be set as index of df and series"
   ]
  },
  {
   "cell_type": "markdown",
   "id": "1720e0f9",
   "metadata": {},
   "source": [
    "# date_range()"
   ]
  },
  {
   "cell_type": "code",
   "execution_count": 20,
   "id": "358e323e",
   "metadata": {},
   "outputs": [
    {
     "data": {
      "text/plain": [
       "DatetimeIndex(['2023-08-04', '2023-08-05', '2023-08-06', '2023-08-07',\n",
       "               '2023-08-08', '2023-08-09', '2023-08-10', '2023-08-11',\n",
       "               '2023-08-12', '2023-08-13', '2023-08-14'],\n",
       "              dtype='datetime64[ns]', freq='D')"
      ]
     },
     "execution_count": 20,
     "metadata": {},
     "output_type": "execute_result"
    }
   ],
   "source": [
    "# will print timestamps in given range.. i.e gives a DatetimeIndex Object\n",
    "pd.date_range(start='2023-8-4',end='2023-8-14') #default frequency is daily"
   ]
  },
  {
   "cell_type": "code",
   "execution_count": 21,
   "id": "855e0de4",
   "metadata": {},
   "outputs": [
    {
     "data": {
      "text/plain": [
       "DatetimeIndex(['2023-08-04', '2023-08-05', '2023-08-06', '2023-08-07',\n",
       "               '2023-08-08', '2023-08-09', '2023-08-10', '2023-08-11',\n",
       "               '2023-08-12', '2023-08-13', '2023-08-14'],\n",
       "              dtype='datetime64[ns]', freq='D')"
      ]
     },
     "execution_count": 21,
     "metadata": {},
     "output_type": "execute_result"
    }
   ],
   "source": [
    "pd.date_range(start='2023-8-4',end='2023-8-14',freq='D')"
   ]
  },
  {
   "cell_type": "code",
   "execution_count": 22,
   "id": "0c65d77b",
   "metadata": {},
   "outputs": [
    {
     "data": {
      "text/plain": [
       "DatetimeIndex(['2023-08-04', '2023-08-06', '2023-08-08', '2023-08-10',\n",
       "               '2023-08-12', '2023-08-14'],\n",
       "              dtype='datetime64[ns]', freq='2D')"
      ]
     },
     "execution_count": 22,
     "metadata": {},
     "output_type": "execute_result"
    }
   ],
   "source": [
    "pd.date_range(start='2023-8-4',end='2023-8-14',freq='2D')"
   ]
  },
  {
   "cell_type": "markdown",
   "id": "7db56b2c",
   "metadata": {},
   "source": [
    "# to_datetime()"
   ]
  },
  {
   "cell_type": "code",
   "execution_count": 36,
   "id": "cab36548",
   "metadata": {},
   "outputs": [],
   "source": [
    "# will convert a given column in diff. format to 'datetime' format.         "
   ]
  },
  {
   "cell_type": "code",
   "execution_count": 39,
   "id": "327c9713",
   "metadata": {},
   "outputs": [
    {
     "data": {
      "text/plain": [
       "0    2023/3/5\n",
       "1    2023/5/7\n",
       "2    2023/6/8\n",
       "dtype: object"
      ]
     },
     "execution_count": 39,
     "metadata": {},
     "output_type": "execute_result"
    }
   ],
   "source": [
    "s= pd.Series(['2023/3/5','2023/5/7','2023/6/8'])    # date is in string(object) format\n",
    "s"
   ]
  },
  {
   "cell_type": "code",
   "execution_count": 40,
   "id": "123aace6",
   "metadata": {},
   "outputs": [
    {
     "data": {
      "text/plain": [
       "0   2023-03-05\n",
       "1   2023-05-07\n",
       "2   2023-06-08\n",
       "dtype: datetime64[ns]"
      ]
     },
     "execution_count": 40,
     "metadata": {},
     "output_type": "execute_result"
    }
   ],
   "source": [
    "pd.to_datetime(s)  # gives a DatetimeIndex object"
   ]
  },
  {
   "cell_type": "code",
   "execution_count": 41,
   "id": "652648d3",
   "metadata": {},
   "outputs": [
    {
     "data": {
      "text/plain": [
       "0    March\n",
       "1      May\n",
       "2     June\n",
       "dtype: object"
      ]
     },
     "execution_count": 41,
     "metadata": {},
     "output_type": "execute_result"
    }
   ],
   "source": [
    "pd.to_datetime(s).dt.month_name()"
   ]
  },
  {
   "cell_type": "code",
   "execution_count": 42,
   "id": "ffc3cc2e",
   "metadata": {},
   "outputs": [
    {
     "data": {
      "text/plain": [
       "0      Sunday\n",
       "1      Sunday\n",
       "2    Thursday\n",
       "dtype: object"
      ]
     },
     "execution_count": 42,
     "metadata": {},
     "output_type": "execute_result"
    }
   ],
   "source": [
    "pd.to_datetime(s).dt.day_name()"
   ]
  },
  {
   "cell_type": "code",
   "execution_count": 45,
   "id": "4df2f915",
   "metadata": {},
   "outputs": [
    {
     "data": {
      "text/plain": [
       "0    5\n",
       "1    7\n",
       "2    8\n",
       "dtype: int64"
      ]
     },
     "execution_count": 45,
     "metadata": {},
     "output_type": "execute_result"
    }
   ],
   "source": [
    "pd.to_datetime(s).dt.day"
   ]
  },
  {
   "cell_type": "markdown",
   "id": "d6c69403",
   "metadata": {},
   "source": [
    "# Timedelta Object"
   ]
  },
  {
   "cell_type": "code",
   "execution_count": null,
   "id": "432aa481",
   "metadata": {},
   "outputs": [],
   "source": [
    "# gives diff. b/w 2 timestamps.. (b/w 2 dates or times)"
   ]
  },
  {
   "cell_type": "code",
   "execution_count": 58,
   "id": "e4117bf3",
   "metadata": {},
   "outputs": [],
   "source": [
    "# by using Timmestamp objects\n",
    "\n",
    "t1 = pd.Timestamp('5th july 2023')"
   ]
  },
  {
   "cell_type": "code",
   "execution_count": 59,
   "id": "b252875a",
   "metadata": {},
   "outputs": [],
   "source": [
    "t2 = pd.Timestamp('4th aug 2023')"
   ]
  },
  {
   "cell_type": "code",
   "execution_count": 60,
   "id": "cd927f4e",
   "metadata": {},
   "outputs": [
    {
     "data": {
      "text/plain": [
       "Timedelta('30 days 00:00:00')"
      ]
     },
     "execution_count": 60,
     "metadata": {},
     "output_type": "execute_result"
    }
   ],
   "source": [
    "t2 - t1"
   ]
  },
  {
   "cell_type": "code",
   "execution_count": 61,
   "id": "0a457833",
   "metadata": {},
   "outputs": [
    {
     "data": {
      "text/plain": [
       "Timedelta('-30 days +00:00:00')"
      ]
     },
     "execution_count": 61,
     "metadata": {},
     "output_type": "execute_result"
    }
   ],
   "source": [
    "t1 - t2"
   ]
  },
  {
   "cell_type": "code",
   "execution_count": 62,
   "id": "76fbbb0e",
   "metadata": {},
   "outputs": [
    {
     "data": {
      "text/plain": [
       "Timedelta('2 days 00:00:00')"
      ]
     },
     "execution_count": 62,
     "metadata": {},
     "output_type": "execute_result"
    }
   ],
   "source": [
    "# standalone creation\n",
    "\n",
    "pd.Timedelta(days=2)"
   ]
  },
  {
   "cell_type": "code",
   "execution_count": 63,
   "id": "1c08da96",
   "metadata": {},
   "outputs": [
    {
     "data": {
      "text/plain": [
       "Timedelta('2 days 10:00:00')"
      ]
     },
     "execution_count": 63,
     "metadata": {},
     "output_type": "execute_result"
    }
   ],
   "source": [
    "pd.Timedelta(days=2,hours=10)"
   ]
  },
  {
   "cell_type": "code",
   "execution_count": 64,
   "id": "2cf71964",
   "metadata": {},
   "outputs": [
    {
     "data": {
      "text/plain": [
       "Timedelta('2 days 10:50:00')"
      ]
     },
     "execution_count": 64,
     "metadata": {},
     "output_type": "execute_result"
    }
   ],
   "source": [
    "pd.Timedelta(days=2,hours=10,minutes=50)"
   ]
  },
  {
   "cell_type": "code",
   "execution_count": 65,
   "id": "9d752b60",
   "metadata": {},
   "outputs": [
    {
     "data": {
      "text/plain": [
       "Timestamp('2023-07-07 10:50:00')"
      ]
     },
     "execution_count": 65,
     "metadata": {},
     "output_type": "execute_result"
    }
   ],
   "source": [
    "# by using this u can perform arithmetic operations on existing timestamps\n",
    "\n",
    "pd.Timestamp('5th july 2023') + pd.Timedelta(days=2,hours=10,minutes=50)"
   ]
  },
  {
   "cell_type": "code",
   "execution_count": 68,
   "id": "77ddb63d",
   "metadata": {},
   "outputs": [
    {
     "data": {
      "text/plain": [
       "DatetimeIndex(['2023-07-03 10:50:00', '2023-07-04 10:50:00',\n",
       "               '2023-07-05 10:50:00', '2023-07-06 10:50:00',\n",
       "               '2023-07-07 10:50:00', '2023-07-08 10:50:00',\n",
       "               '2023-07-09 10:50:00', '2023-07-10 10:50:00',\n",
       "               '2023-07-11 10:50:00', '2023-07-12 10:50:00',\n",
       "               '2023-07-13 10:50:00', '2023-07-14 10:50:00',\n",
       "               '2023-07-15 10:50:00', '2023-07-16 10:50:00',\n",
       "               '2023-07-17 10:50:00', '2023-07-18 10:50:00',\n",
       "               '2023-07-19 10:50:00', '2023-07-20 10:50:00',\n",
       "               '2023-07-21 10:50:00', '2023-07-22 10:50:00',\n",
       "               '2023-07-23 10:50:00', '2023-07-24 10:50:00',\n",
       "               '2023-07-25 10:50:00', '2023-07-26 10:50:00',\n",
       "               '2023-07-27 10:50:00', '2023-07-28 10:50:00',\n",
       "               '2023-07-29 10:50:00', '2023-07-30 10:50:00',\n",
       "               '2023-07-31 10:50:00', '2023-08-01 10:50:00',\n",
       "               '2023-08-02 10:50:00'],\n",
       "              dtype='datetime64[ns]', freq='D')"
      ]
     },
     "execution_count": 68,
     "metadata": {},
     "output_type": "execute_result"
    }
   ],
   "source": [
    "# this also works for set of timestamps\n",
    "\n",
    "pd.date_range(start='2023-07-01',end='2023-7-31') + pd.Timedelta(days=2,hours=10,minutes=50)"
   ]
  },
  {
   "cell_type": "code",
   "execution_count": 70,
   "id": "f3a63a09",
   "metadata": {},
   "outputs": [
    {
     "data": {
      "text/html": [
       "<div>\n",
       "<style scoped>\n",
       "    .dataframe tbody tr th:only-of-type {\n",
       "        vertical-align: middle;\n",
       "    }\n",
       "\n",
       "    .dataframe tbody tr th {\n",
       "        vertical-align: top;\n",
       "    }\n",
       "\n",
       "    .dataframe thead th {\n",
       "        text-align: right;\n",
       "    }\n",
       "</style>\n",
       "<table border=\"1\" class=\"dataframe\">\n",
       "  <thead>\n",
       "    <tr style=\"text-align: right;\">\n",
       "      <th></th>\n",
       "      <th>order_date</th>\n",
       "      <th>delivery_date</th>\n",
       "    </tr>\n",
       "  </thead>\n",
       "  <tbody>\n",
       "    <tr>\n",
       "      <th>0</th>\n",
       "      <td>5/24/98</td>\n",
       "      <td>2/5/99</td>\n",
       "    </tr>\n",
       "    <tr>\n",
       "      <th>1</th>\n",
       "      <td>4/22/92</td>\n",
       "      <td>3/6/98</td>\n",
       "    </tr>\n",
       "    <tr>\n",
       "      <th>2</th>\n",
       "      <td>2/10/91</td>\n",
       "      <td>8/26/92</td>\n",
       "    </tr>\n",
       "    <tr>\n",
       "      <th>3</th>\n",
       "      <td>7/21/92</td>\n",
       "      <td>11/20/97</td>\n",
       "    </tr>\n",
       "    <tr>\n",
       "      <th>4</th>\n",
       "      <td>9/2/93</td>\n",
       "      <td>6/10/98</td>\n",
       "    </tr>\n",
       "  </tbody>\n",
       "</table>\n",
       "</div>"
      ],
      "text/plain": [
       "  order_date delivery_date\n",
       "0    5/24/98        2/5/99\n",
       "1    4/22/92        3/6/98\n",
       "2    2/10/91       8/26/92\n",
       "3    7/21/92      11/20/97\n",
       "4     9/2/93       6/10/98"
      ]
     },
     "execution_count": 70,
     "metadata": {},
     "output_type": "execute_result"
    }
   ],
   "source": [
    "# real data example\n",
    "df = pd.read_csv('deliveries.csv')\n",
    "df.head()"
   ]
  },
  {
   "cell_type": "code",
   "execution_count": 72,
   "id": "da1fc6b6",
   "metadata": {},
   "outputs": [
    {
     "name": "stdout",
     "output_type": "stream",
     "text": [
      "<class 'pandas.core.frame.DataFrame'>\n",
      "RangeIndex: 501 entries, 0 to 500\n",
      "Data columns (total 2 columns):\n",
      " #   Column         Non-Null Count  Dtype \n",
      "---  ------         --------------  ----- \n",
      " 0   order_date     501 non-null    object\n",
      " 1   delivery_date  501 non-null    object\n",
      "dtypes: object(2)\n",
      "memory usage: 8.0+ KB\n"
     ]
    }
   ],
   "source": [
    "df.info()"
   ]
  },
  {
   "cell_type": "code",
   "execution_count": 74,
   "id": "bda0db25",
   "metadata": {},
   "outputs": [],
   "source": [
    "# dates are in string format\n",
    "\n",
    "df['order_date'] = pd.to_datetime(df['order_date'])"
   ]
  },
  {
   "cell_type": "code",
   "execution_count": 75,
   "id": "b8879619",
   "metadata": {},
   "outputs": [],
   "source": [
    "df['delivery_date'] = pd.to_datetime(df['delivery_date'])"
   ]
  },
  {
   "cell_type": "code",
   "execution_count": 76,
   "id": "755bd5a1",
   "metadata": {},
   "outputs": [
    {
     "name": "stdout",
     "output_type": "stream",
     "text": [
      "<class 'pandas.core.frame.DataFrame'>\n",
      "RangeIndex: 501 entries, 0 to 500\n",
      "Data columns (total 2 columns):\n",
      " #   Column         Non-Null Count  Dtype         \n",
      "---  ------         --------------  -----         \n",
      " 0   order_date     501 non-null    datetime64[ns]\n",
      " 1   delivery_date  501 non-null    datetime64[ns]\n",
      "dtypes: datetime64[ns](2)\n",
      "memory usage: 8.0 KB\n"
     ]
    }
   ],
   "source": [
    "df.info()"
   ]
  },
  {
   "cell_type": "code",
   "execution_count": 77,
   "id": "a629c245",
   "metadata": {},
   "outputs": [
    {
     "data": {
      "text/plain": [
       "0      257 days\n",
       "1     2144 days\n",
       "2      563 days\n",
       "3     1948 days\n",
       "4     1742 days\n",
       "         ...   \n",
       "496   1684 days\n",
       "497   2394 days\n",
       "498   2719 days\n",
       "499     10 days\n",
       "500    637 days\n",
       "Length: 501, dtype: timedelta64[ns]"
      ]
     },
     "execution_count": 77,
     "metadata": {},
     "output_type": "execute_result"
    }
   ],
   "source": [
    "df['delivery_date']-df['order_date'] #gives a series. Each item in the series is a Timedelta"
   ]
  },
  {
   "cell_type": "code",
   "execution_count": 78,
   "id": "4330a3cc",
   "metadata": {},
   "outputs": [],
   "source": [
    "df['delivery_time_period'] = df['delivery_date']-df['order_date']"
   ]
  },
  {
   "cell_type": "code",
   "execution_count": 79,
   "id": "f7b0db56",
   "metadata": {},
   "outputs": [
    {
     "data": {
      "text/html": [
       "<div>\n",
       "<style scoped>\n",
       "    .dataframe tbody tr th:only-of-type {\n",
       "        vertical-align: middle;\n",
       "    }\n",
       "\n",
       "    .dataframe tbody tr th {\n",
       "        vertical-align: top;\n",
       "    }\n",
       "\n",
       "    .dataframe thead th {\n",
       "        text-align: right;\n",
       "    }\n",
       "</style>\n",
       "<table border=\"1\" class=\"dataframe\">\n",
       "  <thead>\n",
       "    <tr style=\"text-align: right;\">\n",
       "      <th></th>\n",
       "      <th>order_date</th>\n",
       "      <th>delivery_date</th>\n",
       "      <th>delivery_time_period</th>\n",
       "    </tr>\n",
       "  </thead>\n",
       "  <tbody>\n",
       "    <tr>\n",
       "      <th>0</th>\n",
       "      <td>1998-05-24</td>\n",
       "      <td>1999-02-05</td>\n",
       "      <td>257 days</td>\n",
       "    </tr>\n",
       "    <tr>\n",
       "      <th>1</th>\n",
       "      <td>1992-04-22</td>\n",
       "      <td>1998-03-06</td>\n",
       "      <td>2144 days</td>\n",
       "    </tr>\n",
       "    <tr>\n",
       "      <th>2</th>\n",
       "      <td>1991-02-10</td>\n",
       "      <td>1992-08-26</td>\n",
       "      <td>563 days</td>\n",
       "    </tr>\n",
       "    <tr>\n",
       "      <th>3</th>\n",
       "      <td>1992-07-21</td>\n",
       "      <td>1997-11-20</td>\n",
       "      <td>1948 days</td>\n",
       "    </tr>\n",
       "    <tr>\n",
       "      <th>4</th>\n",
       "      <td>1993-09-02</td>\n",
       "      <td>1998-06-10</td>\n",
       "      <td>1742 days</td>\n",
       "    </tr>\n",
       "  </tbody>\n",
       "</table>\n",
       "</div>"
      ],
      "text/plain": [
       "  order_date delivery_date delivery_time_period\n",
       "0 1998-05-24    1999-02-05             257 days\n",
       "1 1992-04-22    1998-03-06            2144 days\n",
       "2 1991-02-10    1992-08-26             563 days\n",
       "3 1992-07-21    1997-11-20            1948 days\n",
       "4 1993-09-02    1998-06-10            1742 days"
      ]
     },
     "execution_count": 79,
     "metadata": {},
     "output_type": "execute_result"
    }
   ],
   "source": [
    "df.head()"
   ]
  },
  {
   "cell_type": "code",
   "execution_count": 81,
   "id": "69949d89",
   "metadata": {},
   "outputs": [
    {
     "data": {
      "text/plain": [
       "Timedelta('1217 days 22:53:53.532934128')"
      ]
     },
     "execution_count": 81,
     "metadata": {},
     "output_type": "execute_result"
    }
   ],
   "source": [
    "\n",
    "# avg delievery time\n",
    "df['delivery_time_period'].mean()"
   ]
  },
  {
   "cell_type": "markdown",
   "id": "a828ae11",
   "metadata": {},
   "source": [
    "# Time series:-"
   ]
  },
  {
   "cell_type": "markdown",
   "id": "7c8ae169",
   "metadata": {},
   "source": [
    "\n",
    "A time series is a data set that tracks a sample over time. In particular, a time series allows one to see what factors influence certain variables from period to period. Time series analysis can be useful to see how a given asset, security, or economic variable changes over time.\n",
    "\n",
    "Examples:-\n",
    "\n",
    ". Financial Data (Company stocks)\n",
    ". Natural Data (Rainfall measurement)\n",
    ". Event Data (Covid)\n",
    ". Medical Data (Heart rate monitoring)\n",
    "\n",
    "\n",
    "Types of Operations done on Time Series:-\n",
    "\n",
    ". Time Series Analysis\n",
    ". Time Series Forecasting"
   ]
  }
 ],
 "metadata": {
  "kernelspec": {
   "display_name": "Python 3 (ipykernel)",
   "language": "python",
   "name": "python3"
  },
  "language_info": {
   "codemirror_mode": {
    "name": "ipython",
    "version": 3
   },
   "file_extension": ".py",
   "mimetype": "text/x-python",
   "name": "python",
   "nbconvert_exporter": "python",
   "pygments_lexer": "ipython3",
   "version": "3.11.3"
  }
 },
 "nbformat": 4,
 "nbformat_minor": 5
}
